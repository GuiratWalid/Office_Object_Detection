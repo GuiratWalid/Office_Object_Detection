{
 "cells": [
  {
   "cell_type": "code",
   "execution_count": 51,
   "id": "c801f0bd",
   "metadata": {},
   "outputs": [],
   "source": [
    "import shutil\n",
    "import os\n",
    "\n",
    "\n",
    "source = \"downloaded_images\"\n",
    "destination = \"dataset\""
   ]
  },
  {
   "cell_type": "code",
   "execution_count": 53,
   "id": "8bbb8123",
   "metadata": {},
   "outputs": [],
   "source": [
    "# Après extraction, tous les identifiants de classe sont des 0. Donc, ce code affecte les nouvelles indices aux classes.\n",
    "category_id = 1\n",
    "for folder in os.listdir(os.path.join(source)):\n",
    "    for file in os.listdir(os.path.join(source, folder)):\n",
    "        if(file.endswith(\".txt\")):\n",
    "            # Lire un fichier\n",
    "            with open(os.path.join(source, folder, file), 'r') as txt_file :\n",
    "                filedata = txt_file.read()\n",
    "\n",
    "            def manual_replace(s, char, index):\n",
    "                return s[:index] + char + s[index +1:]\n",
    "\n",
    "            # Remplacer le premier caractère d'un fichier\n",
    "            filedata = manual_replace(filedata, str(category_id) , 0)\n",
    "\n",
    "            # Ecrire dans un fichier\n",
    "            with open(os.path.join(source, folder, file), 'w') as txt_file:\n",
    "                txt_file.write(filedata)\n",
    "    category_id = category_id + 1"
   ]
  },
  {
   "cell_type": "code",
   "execution_count": 54,
   "id": "a3e63c73",
   "metadata": {},
   "outputs": [],
   "source": [
    "# Ce code permet de créer une nouvelle dataset qui a l'arborescence suivante:\n",
    "# └── dataset\n",
    " ## └── train\n",
    " ####└── images (folder including all training images)\n",
    " ####└── labels (folder including all training labels)\n",
    " ## └── test\n",
    " ####└── images (folder including all testing images)\n",
    " ####└── labels (folder including all testing labels)\n",
    "for folder in os.listdir(source):\n",
    "    size = len([name for name in os.listdir(os.path.join(source,folder)) if os.path.isfile(os.path.join(source, folder, name))])\n",
    "    file_number = 0\n",
    "    for file in os.listdir(os.path.join(source, folder)):\n",
    "        if(file.endswith(\".txt\")):\n",
    "            if file_number < size*0.8:\n",
    "                shutil.copyfile(os.path.join(source, folder, file),os.path.join(destination, \"train\", \"labels\", file))\n",
    "            else:\n",
    "                shutil.copyfile(os.path.join(source, folder, file),os.path.join(destination, \"test\", \"labels\", file))\n",
    "        else:\n",
    "            if file_number < size*0.8:\n",
    "                shutil.copyfile(os.path.join(source, folder, file),os.path.join(destination, \"train\", \"images\", file))\n",
    "            else:\n",
    "                shutil.copyfile(os.path.join(source, folder, file),os.path.join(destination, \"test\", \"images\", file))\n",
    "        file_number += 1\n",
    "    "
   ]
  },
  {
   "cell_type": "code",
   "execution_count": null,
   "id": "00eb7e38",
   "metadata": {},
   "outputs": [],
   "source": []
  }
 ],
 "metadata": {
  "kernelspec": {
   "display_name": "Python 3 (ipykernel)",
   "language": "python",
   "name": "python3"
  },
  "language_info": {
   "codemirror_mode": {
    "name": "ipython",
    "version": 3
   },
   "file_extension": ".py",
   "mimetype": "text/x-python",
   "name": "python",
   "nbconvert_exporter": "python",
   "pygments_lexer": "ipython3",
   "version": "3.10.9"
  }
 },
 "nbformat": 4,
 "nbformat_minor": 5
}
