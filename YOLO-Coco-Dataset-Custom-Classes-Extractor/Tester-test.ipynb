{
 "cells": [
  {
   "cell_type": "code",
   "execution_count": 22,
   "id": "d0207416",
   "metadata": {},
   "outputs": [],
   "source": [
    "# Tester les correspondances entre les annotations et les images\n",
    "import os\n",
    "files = []\n",
    "for file in os.listdir(\"labels\"):\n",
    "    files.append(file[:-4])\n",
    "for file in os.listdir(\"images\"):\n",
    "    if file[:-4] not in files:\n",
    "        print(file)"
   ]
  },
  {
   "cell_type": "code",
   "execution_count": 17,
   "id": "58dab210",
   "metadata": {},
   "outputs": [],
   "source": [
    "# Changer l'indexation de 5 vers 0\n",
    "for file in os.listdir(\"labels\"):\n",
    "    # Lire un fichier\n",
    "    with open(os.path.join(\"labels\",file), 'r') as txt_file :\n",
    "        filedata = txt_file.read()\n",
    "        \n",
    "    def manual_replace(s, char, index):\n",
    "        return s[:index] + char + s[index +1:]\n",
    "\n",
    "    # Remplacer le premier caractère d'un fichier\n",
    "    if filedata[0] == '5':\n",
    "        filedata = manual_replace(filedata, \"0\" , 0)\n",
    "        \n",
    "        # Ecrire dans un fichier\n",
    "        with open(os.path.join(\"labels\",file), 'w') as txt_file:\n",
    "            txt_file.write(filedata)"
   ]
  }
 ],
 "metadata": {
  "kernelspec": {
   "display_name": "Python 3 (ipykernel)",
   "language": "python",
   "name": "python3"
  },
  "language_info": {
   "codemirror_mode": {
    "name": "ipython",
    "version": 3
   },
   "file_extension": ".py",
   "mimetype": "text/x-python",
   "name": "python",
   "nbconvert_exporter": "python",
   "pygments_lexer": "ipython3",
   "version": "3.10.9"
  }
 },
 "nbformat": 4,
 "nbformat_minor": 5
}
